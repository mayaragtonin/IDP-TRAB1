{
  "nbformat": 4,
  "nbformat_minor": 0,
  "metadata": {
    "colab": {
      "provenance": []
    },
    "kernelspec": {
      "name": "python3",
      "display_name": "Python 3"
    },
    "language_info": {
      "name": "python"
    }
  },
  "cells": [
    {
      "cell_type": "markdown",
      "source": [
        "![Captura de Tela 2022-11-23 às 19.27.44.png](data:image/png;base64,iVBORw0KGgoAAAANSUhEUgAAARYAAAEYCAYAAACZR9k/AAAMa2lDQ1BJQ0MgUHJvZmlsZQAASImVVwdYU8kWnluSkJDQAqFICb0JIr1ICaFFEJAq2AhJIKHEmBBU7Iio4NpFFCu6KqLoWgBZVMReFsXeFwsqK+tiQVFQ3oQEdN1Xvne+b+7898yZ/5Q7c+8dADR7uBJJDqoFQK44TxoXHswcl5LKJD0HJKAFUEAFLlyeTMKKjY0CUAb7v8uHWwBR9NedFFz/HP+vosMXyHgAIBMgTufLeLkQNwGAb+RJpHkAEBV6y2l5EgWeB7GuFAYI8RoFzlTi3QqcrsSNAzYJcWyIrwKgRuVypZkAaDyAemY+LxPyaPRB7CLmi8QAaA6HOIAn5PIhVsQ+PDd3igKXQ2wH7SUQw3iAd/p3nJl/408f4udyM4ewMq8BUQsRySQ53Bn/Z2n+t+TmyAd92MBGFUoj4hT5wxreyZ4SqcBUiDvF6dExilpD3CPiK+sOAEoRyiMSlfaoMU/GhvUDDIhd+NyQSIiNIQ4T50RHqfTpGaIwDsRwtaDTRXmcBIgNIF4skIXGq2y2SqfEqXyhtRlSNkulP8+VDvhV+Hokz05kqfjfCgUcFT+mUSBMSIaYArFVvigpGmINiJ1l2fGRKptRBUJ29KCNVB6niN8K4jiBODxYyY/lZ0jD4lT2JbmywXyxrUIRJ1qFD+YJEyKU9cFO87gD8cNcsKsCMStxkEcgGxc1mAtfEBKqzB17KRAnxqt4eiR5wXHKuThFkhOrssctBDnhCr0FxO6y/HjVXDwpDy5OJT+eIcmLTVDGiRdkcUfHKuPBV4AowAYhgAnksKWDKSALiFo66zrhnXIkDHCBFGQCAXBSaQZnJA+MiOE1HhSAPyESANnQvOCBUQHIh/ovQ1rl1QlkDIzmD8zIBs8hzgWRIAfeywdmiYe8JYFnUCP6h3cubDwYbw5sivF/rx/UftOwoCZKpZEPemRqDloSQ4khxAhiGNEeN8IDcD88Cl6DYHPFvXGfwTy+2ROeE1oJTwg3CW2Eu5NFhdIfohwD2iB/mKoW6d/XAreBnB54MO4P2SEzzsCNgBPuDv2w8EDo2QNq2aq4FVVh/sD9twy+exoqO7ILGSXrk4PIdj/O1HDQ8BhiUdT6+/ooY00fqjd7aORH/+zvqs+HfeSPlthi7BB2DjuJXcAasTrAxE5g9dhl7JgCD62uZwOra9Bb3EA82ZBH9A9/XJVPRSVlLtUuHS59yrE8wfQ8xcZjT5HMkIoyhXlMFvw6CJgcMc95ONPVxdUVAMW3Rvn6escY+IYgjIvfdIXvAfDn9/f3N37TRcG9fngh3P7Pv+lsj8PXhD4A50t5cmm+UocrLgT4ltCEO80QmAJLYAfzcQWewA8EgVAwGsSABJACJsEqC+E6l4JpYBaYD4pBKVgB1oINYAvYDnaDfeAgqAON4CQ4Cy6Bq+AmuA9XTzt4BbrAB9CLIAgJoSF0xBAxQ6wRR8QV8UYCkFAkColDUpA0JBMRI3JkFrIAKUVWIRuQbUgV8gtyFDmJXEBakbvIY6QDeYt8RjGUiuqiJqgNOgL1RlloJJqATkQz0aloAVqELkPL0Up0L1qLnkQvoTfRNvQV2o0BTB1jYOaYE+aNsbEYLBXLwKTYHKwEK8MqsRqsAT7n61gb1ol9wok4HWfiTnAFR+CJOA+fis/Bl+Ib8N14LX4av44/xrvwrwQawZjgSPAlcAjjCJmEaYRiQhlhJ+EI4QzcS+2ED0QikUG0JXrBvZhCzCLOJC4lbiLuJzYRW4lPid0kEsmQ5EjyJ8WQuKQ8UjFpPWkv6QTpGqmd1KOmrmam5qoWppaqJlYrVCtT26N2XO2a2gu1XrIW2ZrsS44h88kzyMvJO8gN5CvkdnIvRZtiS/GnJFCyKPMp5ZQayhnKA8o7dXV1C3Uf9bHqIvV56uXqB9TPqz9W/0TVoTpQ2dQJVDl1GXUXtYl6l/qORqPZ0IJoqbQ82jJaFe0U7RGtR4Ou4azB0eBrzNWo0KjVuKbxWpOsaa3J0pykWaBZpnlI84pmpxZZy0aLrcXVmqNVoXVU67ZWtzZde6R2jHau9lLtPdoXtF/qkHRsdEJ1+DpFOtt1Tuk8pWN0SzqbzqMvoO+gn6G36xJ1bXU5ulm6pbr7dFt0u/R09Nz1kvSm61XoHdNrY2AMGwaHkcNYzjjIuMX4rG+iz9IX6C/Rr9G/pv/RYJhBkIHAoMRgv8FNg8+GTMNQw2zDlYZ1hg+NcCMHo7FG04w2G50x6hymO8xvGG9YybCDw+4Zo8YOxnHGM423G1827jYxNQk3kZisNzll0mnKMA0yzTJdY3rctMOMbhZgJjJbY3bC7A+mHpPFzGGWM08zu8yNzSPM5ebbzFvMey1sLRItCi32Wzy0pFh6W2ZYrrFstuyyMrMaYzXLqtrqnjXZ2ttaaL3O+pz1Rxtbm2SbRTZ1Ni9tDWw5tgW21bYP7Gh2gXZT7SrtbtgT7b3ts+032V91QB08HIQOFQ5XHFFHT0eR4ybH1uGE4T7DxcMrh992ojqxnPKdqp0eOzOco5wLneucX4+wGpE6YuWIcyO+uni45LjscLk/Umfk6JGFIxtGvnV1cOW5VrjecKO5hbnNdat3e+Pu6C5w3+x+x4PuMcZjkUezxxdPL0+pZ41nh5eVV5rXRq/b3rresd5Lvc/7EHyCfeb6NPp88vX0zfM96PuXn5Nftt8ev5ejbEcJRu0Y9dTfwp/rv82/LYAZkBawNaAt0DyQG1gZ+CTIMogftDPoBcuelcXay3od7BIsDT4S/JHty57NbgrBQsJDSkJaQnVCE0M3hD4KswjLDKsO6wr3CJ8Z3hRBiIiMWBlxm2PC4XGqOF2jvUbPHn06khoZH7kh8kmUQ5Q0qmEMOmb0mNVjHkRbR4uj62JADCdmdczDWNvYqbG/jiWOjR1bMfZ53Mi4WXHn4unxk+P3xH9ICE5YnnA/0S5RnticpJk0Iakq6WNySPKq5LZxI8bNHncpxShFlFKfSkpNSt2Z2j0+dPza8e0TPCYUT7g10Xbi9IkXJhlNypl0bLLmZO7kQ2mEtOS0PWl93BhuJbc7nZO+Mb2Lx+at473iB/HX8DsE/oJVghcZ/hmrMl5m+meuzuwQBgrLhJ0itmiD6E1WRNaWrI/ZMdm7svtzknP256rlpuUeFeuIs8Wnp5hOmT6lVeIoKZa0TfWdunZqlzRSulOGyCbK6vN04U/9ZbmdfKH8cX5AfkV+z7SkaYema08XT788w2HGkhkvCsIKfp6Jz+TNbJ5lPmv+rMezWbO3zUHmpM9pnms5t2hu+7zwebvnU+Znz/+t0KVwVeH7BckLGopMiuYVPV0YvrC6WKNYWnx7kd+iLYvxxaLFLUvclqxf8rWEX3Kx1KW0rLRvKW/pxZ9G/lT+U/+yjGUtyz2Xb15BXCFecWtl4Mrdq7RXFax6unrM6to1zDUla96vnbz2Qpl72ZZ1lHXydW3lUeX1663Wr1jft0G44WZFcMX+jcYbl2z8uIm/6drmoM01W0y2lG75vFW09c628G21lTaVZduJ2/O3P9+RtOPcz94/V+002lm688su8a623XG7T1d5VVXtMd6zvBqtlld37J2w9+q+kH31NU412/Yz9pceAAfkB/74Je2XWwcjDzYf8j5Uc9j68MYj9CMltUjtjNquOmFdW31KfevR0UebG/wajvzq/OuuRvPGimN6x5YfpxwvOt5/ouBEd5OkqfNk5smnzZOb758ad+rG6bGnW85Enjl/NuzsqXOscyfO+59vvOB74ehF74t1lzwv1V72uHzkN4/fjrR4ttRe8bpSf9XnakPrqNbj1wKvnbwecv3sDc6NSzejb7beSrx15/aE2213+Hde3s25++Ze/r3e+/MeEB6UPNR6WPbI+FHl7/a/72/zbDv2OOTx5SfxT+4/5T199Uz2rK+96DntedkLsxdVL11fNnaEdVz9Y/wf7a8kr3o7i//U/nPja7vXh/8K+uty17iu9jfSN/1vl74zfLfrvfv75u7Y7kcfcj/0fizpMezZ/cn707nPyZ9f9E7rI/WVf7H/0vA18uuD/tz+fglXyh34FcBgQzMyAHi7CwBaCgB0eG6jjFeeBQcEUZ5fBxD4T1h5XhwQTwBqYKf4jWc3AXAANpt5kDsIAMUvfEIQQN3chppKZBlurkouKjwJEXr6+9+ZAEBqAOCLtL+/d1N//5cdMNi7ADRNVZ5BFUKEZ4atAQp00yC9D/wgyvPpdzn+2ANFBO7gx/5fJhOP1AViedoAAACKZVhJZk1NACoAAAAIAAQBGgAFAAAAAQAAAD4BGwAFAAAAAQAAAEYBKAADAAAAAQACAACHaQAEAAAAAQAAAE4AAAAAAAAAkAAAAAEAAACQAAAAAQADkoYABwAAABIAAAB4oAIABAAAAAEAAAEWoAMABAAAAAEAAAEYAAAAAEFTQ0lJAAAAU2NyZWVuc2hvdEvdklIAAAAJcEhZcwAAFiUAABYlAUlSJPAAAAHWaVRYdFhNTDpjb20uYWRvYmUueG1wAAAAAAA8eDp4bXBtZXRhIHhtbG5zOng9ImFkb2JlOm5zOm1ldGEvIiB4OnhtcHRrPSJYTVAgQ29yZSA2LjAuMCI+CiAgIDxyZGY6UkRGIHhtbG5zOnJkZj0iaHR0cDovL3d3dy53My5vcmcvMTk5OS8wMi8yMi1yZGYtc3ludGF4LW5zIyI+CiAgICAgIDxyZGY6RGVzY3JpcHRpb24gcmRmOmFib3V0PSIiCiAgICAgICAgICAgIHhtbG5zOmV4aWY9Imh0dHA6Ly9ucy5hZG9iZS5jb20vZXhpZi8xLjAvIj4KICAgICAgICAgPGV4aWY6UGl4ZWxZRGltZW5zaW9uPjI4MDwvZXhpZjpQaXhlbFlEaW1lbnNpb24+CiAgICAgICAgIDxleGlmOlBpeGVsWERpbWVuc2lvbj4yNzg8L2V4aWY6UGl4ZWxYRGltZW5zaW9uPgogICAgICAgICA8ZXhpZjpVc2VyQ29tbWVudD5TY3JlZW5zaG90PC9leGlmOlVzZXJDb21tZW50PgogICAgICA8L3JkZjpEZXNjcmlwdGlvbj4KICAgPC9yZGY6UkRGPgo8L3g6eG1wbWV0YT4KaH/rrAAAABxpRE9UAAAAAgAAAAAAAACMAAAAKAAAAIwAAACMAAAPPqYXuwAAAA8KSURBVHgB7J0JcFXVGYD/bARlDQRIICQkbAKCC4JWRUeQili1Wtei1rY4U7EWlXZGkHFrQaxDLaJDO9aldW2t2o7WWge1UitlX0JYw74HEggBQgiB/uciDITknZPkvBcf97sMk+Td//7vvu+c971zzz3nvIT2fYccETYIQAACHgkkIBaPNEkFAQgEBBALFQECEPBOALF4R0pCCEAAsVAHIAAB7wQQi3ekJIQABBALdQACEPBOALF4R0pCCEAAsVAHIAAB7wQQi3ekJIQABBALdQACEPBOALF4R0pCCEAAsVAHIAAB7wQQi3ekJIQABBALdQACEPBOALF4R0pCCEAAsVAHIAAB7wQQi3ekJIQABBALdQACEPBOALF4R0pCCEAAsVAHIAAB7wQQi3ekJIQABBALdQACEPBOALF4R0pCCEAAsVAHIAAB7wQQi3ekJIQABBALdQACEPBOALF4R0pCCEAAsVAHIAAB7wQQi3ekJIQABBALdQACEPBOALF4R0pCCEAAsVAHIAAB7wQQi3ekJIQABBALdQACEPBOALF4R0pCCEAAsVAHIAAB7wQQi3ekJIQABBALdQACEPBOALF4R0pCCEAAsVAHIAAB7wQQi3ekJIQABBALdQACEPBOALF4R0pCCEAAsVAHIAAB7wQQi3ekJIQABBALdQACEPBOALF4R0pCCEAAsVAHIAAB7wQQi3ekJIQABBALdQACEPBOALF4R0pCCEAAsVAHIAAB7wQQi3ekJIQABBALdQACEPBOALF4R0pCCEAAsVAHIAAB7wQQi3ekJIQABBALdQACEPBOALF4R0pCCEAAsVAHIAAB7wQQi3ekJIQABBALdQACEPBOALF4R0pCCEAAsVAHIAAB7wQQi3ekJIQABBALdQACEPBOALF4R0pCCEAAsVAHIAAB7wQQi3ekJIQABBALdQACEPBOALF4R0pCCEAAsVAHIAAB7wQQi3ekJIQABBALdQACEPBOALF4R0pCCEAAsVAHIAAB7wQQi3ekJIQABBCLYx3o0LaNjLr7FumY0U6SkpIcj6o9bO++fbJ63SZ5/d2PpHh3ae2BUdqTntZa+vfrJZd/63zJaN/Oy7MUrt0gb773T9leXCLlByq85CRJfBJALI7llpvVUV6c/Kh065IliR7Esru0TBYuWS7jnnpeNm0rcjwLf2HZHTNk+JBL5dbrvy1du3T2knjeoqXy2DPTZO3GLVK2b7+XnCSJTwKIxbHc8jp3ktdfmCB5OZ0kISHB8ajaw/aU7VWxrJQxj0+WDVu31x4YpT1dOmXKdVddLrd9d5iKJcvLs8xZWCDjJ70gq9dvVrHs85KTJPFJALE4lptpsbz828elR162JCcnOx5Ve1iJXv7MW7RMHp7wXKO0WHK0xXLNlYNkxPeGS7dcPy2WOQsKtAU2lRZL7cUemj2IxbGojVj+8JvHpGfXHElJabhYineVyly9dBg3cWqjicVcCo24abh0z812pBA5DLFE5hOmvYjFsbQRix0UYrEzCksEYnEsacRiB4VY7IzCEoFYHEsasdhBIRY7o7BEIBbHkkYsdlCIxc4oLBGIxbGkEYsdFGKxMwpLBGJxLGnEYgeFWOyMwhKBWBxLGrHYQSEWO6OwRCAWx5I2YnllyhPS3QyQ8zCkf5cO6V+Qv0x+8eQUHccS+5G3ZoAc41gcC5+wOhNALI7Iupoh/dMmSl52J8cjIoft218uS5YXyv3jnpb1W7ZFDo7CXsQSBaikPE4AsRxHEfmXrIwO8syjo1UsWZKUnCSHDx+OfECEvUlJiVK6Z6/kLyuUSVNfka07dkaIjs4uxBIdrmQ9SgCxONaEVs2by9WDL5a2bVpLUqKK5UgDxJKYGCwrsEVnNX8xc76U7Y/9TGDE4ljwhNWLAGKpF7b4PwixxH8ZfpNfAWL5JpdOFM8NsUQRLqkFsThWgtSUJsEiT2ee0VQSExOk6vARxyNPDUvWPpbKykOyp2xf0HF7sLLy1KAaHjHLNaS3bimZHdpJmv5spueSkpKi68OIHPn6dMxKMUf0j8pDh6SiolIvuQ7ItqJiKSreJaV79x7Pmp3ZQYYNvkTuuvk7wZ2u4zsa8Ev1280per6Z7dOljZ5r09RUOVRVZc1uzt+sd5Ool4tFO0uC1ehMR3dN25lNm2r+ttKhXVtp2byZpKY2OX7H7ljpHDpUpawr5UDFwYD3jpJdwYp9teWs6Xl4rO4EEIsjszatW8kdN14t7dPbBJW+IZ23ydr5W15eIRs2b5P3P/5cdu8pq/UszJvMyCwjva0KJV1yO3eUPF3xrX16mrRodqakNmkiCSo6IxOzJei/w/r7wYMHg34c8wYyz7NOV3XbtGW77CrdIztKSiWtZXO58rKL5O5br5UeuhSEj626WFo0ayZDLh0gPbt1kTatWgayc3ke85rN8p/mnBcVrJSZ8xcHh5nHm6hI09Na6f/WwTKh3fT2f+eOHVRereSMpqliZKYIjvMwAq9QFvvLD8iu3Xtk87Yd+r9Itm3fGbAo1sdKddGtY/xczo8YOwHEYmcURPi+3VyuFb1g5RoZ9fBTsn7z1lrPwoyZ6a4iuWH4YBl86cBgtTcjmrpuJbr+y6q1G+W/sxfI9BmzgzeVWe/2h7dfr2vMdKlruhrjq4ulo7ZWxj8wUi4ecG4gxRoPivCgadF98sVMuW/cpCDKSKNdmzQZMmigshgg5/c9S9frTY+Q4dRd5gPBiLxQWXw5e6HMmDlP5ui6OFX6OHI5lVd9H0EsjuTytKXw6nO/DFZbS9JmekM3c7t5ga55O+aJZ2VTDUtTmjeRaeIPHXShXH5xf+nVPVfa6qe0kYq5XV3XzXxy7ysv10/tMjF3o/bqmrSttNVyVrdcad2qRV3T1RhfXSyZ2soaM+ouXbC7v2R3yqjxmEgPmsuYgpWr5aU3/yZGjF20DC5RSeVkZUo7bbG1bKGXP9piq8tmGnaH9DIxaMFo68204pYXrpMZ/5sv+UtXyZZGuPVfl/OPl1jE4lhSZuTt0aUpc3Rpyoav0m+WppyrS1OOrWFpyqb6Zumk3wZglo68Qj+Zz+7ZLXgTOZ6qNcz06RjRVFUdDkTl4/WYJ60ulgy9bBx9z4igdWGkUJ/NcMpfWhhcrmRof0rvHl31nFODy9H65Kt+jOl72an9TwuWrJCv5i4KXkP+isLqYfxdRwKIxRFYrOYKmX4E07E66MLz5KGf3Bl01JrO4njYqovFfGXK6Hu+H4gl19OI5WhyWLJ8tXzy76/kj3/5QEp0yoVrp3o0zylecyMWx5KLlVhM5+QNw66Q+0feppcPmdrUT3E8w8YPi3exVGjrxXR0/2fWfHn1zx/IijXrGx9qnJ4BYnEsuFiJZeA5feTm64bq9/1cpXdAkr181YjjS2xwWLyLxQAwt+e3F5XIy2//XT77crasWrexwVzCmACxOJZ6LMSSqJdBo35wS/B9P+f06eF4Zt+csNNBLMdoms7cv34wPRgOYMYEccfoGBm3n4jFjZNEWyxGKmbsxu+efiS4nWrGZMTbdjqJxbB/6/2PZeKUl7S/ZY/T4L54K69oni9icaQbbbGY28hZHdrLpPE/k4su6KcTHet+S9nxpUQt7HQTixnn8to7H8qnX87hmx3rWGsQiyOwaIslrWVL6dMzLxhQdp4O/IrH7XQTixlEZwboTXv1HSnSqQBs7gQQiyOraIslXUeUDujXK7jF3K93d8ezcgszo0rNoLDKSjNX50hwyWUG4Pkav3LsLGIpFtPvEYzF0ddmLiPN62ni+Q5aY39b5TGu8fgTsTiWWtTFoqNqLzint4zRsSu+xWJG+ZrRtpu2FqlgqoJRq50y2tdrmH0kXLEUy0YdMbtJV94r0bk+ZoKjGdlrvoPajAPytZUfqJClK1bLvZZpF76e73TKg1gcSzMWYumvLZaf33uXN7GYT/QyHbr/3j8+lYUFK6RYJx+auTLNdfJiX20VjdBJlWZYvxk742OLhVjMWJNCvQU8fcYsmb94mZRXVOiM5mTJ6ZwpA8/tox3fF3obpWz4rVi9TkY+9KSs3bTFB6LQ5EAsjkUdj2IxM5kLVqyRydNek3mLl0rF18szmE/1/n17ySOjfyy9euRJWpTmCkVj5K1ZhPz9jz6Tdz+cLnN1MfJjm7mUHKgtvvEPjgzmEpklJhq6mdbdSh0k96MHHkcsdYSJWByBxaNYVq7ZIH/S4en/+vwr2VBtomNXXbv35muH6qzpK4LJfY4YIobFosWyRZc9ePTX02TWgvxgjZkTTyhLp0JMfuxBOe/ss4KW2In76vP70RbLem2xPIFY6ggQsTgCi0exFGj/wPMvva2T6xbLtp3FJ73SHJ0ucO3Qy+T2G4fpAladT9pX3z9iIZbN2k80duLUYKkDM0HxxC1L+40mjP2pDDi3dzAT/MR99fkdsdSH2tFjEIsju3gUS/6yVfLs79+QOQsLTrldmp2ZIVcPuUTuvOmaqK0gF41LIdMBbWaEz9U1VMzAtRM3Mw7oV2PvU7H0kXRd9LyhG2KpP0HE4sguPsVSKFNefENmLygIlng88aXGq1hMi2XcU88HsiyuocUycdz9wd21trrKXEM3xFJ/gojFkV08isV8IdqUF9+UWfOXnCqWr78J8Y6bhkv33GxHCpHDYnUp9IiKZba2whBL5PJozL2IxZF+/IrlLRVL/iliicUq/dG4FDItlqNiWapi2X1S6Zk+FlosJyFptD8QiyN6xGIHFdsWC2Kxl0jjRSAWR/aIxQ4KsdgZhSUCsTiWNGKxg0IsdkZhiUAsjiWNWOygEIudUVgiEItjSSMWOyjEYmcUlgjE4ljSiMUOCrHYGYUlArE4ljRisYNCLHZGYYlALI4ljVjsoBCLnVFYIhCLY0kjFjsoxGJnFJYIxOJY0ojFDgqx2BmFJQKxOJY0YrGDQix2RmGJQCyOJY1Y7KAQi51RWCIQi2NJIxY7KMRiZxSWCMTiWNKIxQ4KsdgZhSUCsTiWNGKxg0IsdkZhiUAsjiWNWOygEIudUVgiEItjSSMWOyjEYmcUlgjE4ljSiMUOCrHYGYUlArE4ljRisYNCLHZGYYlALI4ljVjsoBCLnVFYIhCLY0kjFjsoxGJnFJYIxOJY0ojFDgqx2BmFJeL/AAAA//8lLZE8AAAOc0lEQVTtnXtwVPUVx0/eDx6BEAKBQAiCghAJj6AgaoGhVjrq+Bg7oy0ztTqtnVosMFVAK9pRSmlpFXSmU1t0pgO1nelY/vHRl+golff7FR4hhBBCXgQIIeTRc25YyiLJ7+dmN/vbc78XR9jsb++e8/nmfvbu7u/eG5ddMLONsBgJ5OcOordWvEg33ZBHSUmJxvGmAdW1Z2jzjr206NWVVFZRSVl9+9DEW0bTgqfm0C03jzQ93Or+3fsP0Wu/X0tfbN1Fp6prgh6TN2ggzZ45jR57eDaNzB8adF+oNzZt20OLlq6ko8fL6ez5BhrQL5PmPvkozZhWRPlDB4e62qDHnThZSYuXrqKN2/dSdV1d0H25A7Pp1UVP06RxN1O/vhlB94Vy49KlZjpw+Bg9Me8lOlpWHsoqfPuYOIjFLnuIxcwJYjEz8ssIiMUyaYjFDApiMTPyywiIxTJpiMUMCmIxM/LLCIjFMmmIxQwKYjEz8ssIiMUyaYjFDApiMTPyywiIxTJpiMUMCmIxM/LLCIjFMmmIxQwKYjEz8ssIiMUyaYjFDApiMTPyywiIxTJpiMUMCmIxM/LLCIjFMmmIxQwKYjEz8ssIiMUyaYjFDApiMTPyywiIxTJpiMUMCmIxM/LLCIjFMmmIxQwKYjEz8ssIiMUyaYjFDApiMTPyywiIxTJpiMUMCmIxM/LLCIjFMmmIxQwKYjEz8ssIiMUyaYjFDApiMTPyywiIxTJpiMUMCmIxM/LLCIjFMmmIxQwKYjEz8ssIiMUyaYjFDApiMTPyywiIxTJpiMUMCmIxM/LLCIjFMulYFMuufYfoN7/7E23avocqa2qDOh2aM4Dunj6V5jxyL904PLbO0i9XNtjEVziorjsT1JOcpf+VhT+iIjlLf2afoPtCuYGz9IdCrf0xEIslu1gUS/vlP9bw5T92q7n8R9nJU/Tsz1+jLTv3U219fVB6nlieY7EUQixBYKJwA2KxhB6LYjlwqIT+sOY9+tenG6nsVGVQpyPyculb93+d7rv7azRsyKCg+0K90V1vhRZe3mOpuWqPJS4ujobytZKW8nWFJhSMor59eofaxpXHYY/lCoqv/A+IxRJZLIqlsqqGNmzZSSvfWku7DhwO6nRSwWh6ccH3vQuwZfTuFXRfqDe6QyzS0xur/0L//OS/dOhY2ZVSU5OTadSIYfTrJfNo5PA8SklOunJfqP+AWEIlRwSxWLKLuFgy+1IRXwlx3g++E7YrITZevEinq+vo3fc+pE+/2EYlfIXChIR4/kwlj+6aMtHbY+nVs0dYruwoGLtDLA0XGmn77gP0/r8/ow2bd9Kp09Xe3olI5faiQvrmrDsok/dW4uPjLZPteFhzczMdPFJKjz+zBFdC7BjTde+BWK6L5cs/jLhYInCJ1UAXO/cepK38mcS+4qOUmJhA48bc5L1dGJE/JDAkLH93h1ja2tqoqemS94H01l376fiJCuqflUkFo0bQxHGjKZMvrZqYkBCWfi6JWPgSq9/7CS6x+lWBQiyWxCItlsw+GVTI12x+9unvUiFv+LG4dIdYupOLCGw/f0715IKXqaTsZHc+dcw/F8RiGWGkxZKemkoD+/ejFS/NpymTbrGsyq1h2sRyji9sv3NvMc19YTmVlle4BdvxaiAWy4AiLZYE3n1PS0mhZc//mGbeMZn6ZnT9Ww3L1sI2TJtYaurqaQvPl3nuldeprCL4W7WwQVO6IojFMthIiyVQxlNzHqb7+Svg8fyVaawt2sRyvPwUfbJhCy1/8x06yR8SY7EnALFYsuousYwekU/ffmg2PfHYA5aVuTNMm1jWs1Te/vM6+oS/UTvX0OAO6BioBGKxDKm7xNIzPZ2mT51Ijz54D906oYB6pKdZVhj9YZrEUsxfM7/3wX9ozd8+oMrqGmpuaYk+4BiqAGKxDKu7xCLl5PEM0imTxtFjD93DE9iGUUbvnpZVRneYBrG0sEAuNF6kv677B637aD19zhMMsXx1AhCLJbPuFIuUlNGrJ907605vEtvk8WMtq4zuMA1ikW+CSnluzEL+wPaLbbupLbpIY/bZIRbL6EQsf/ztEm/Wqkwy6+oix7ls2bGvw28cEhMTaUA/no07bgzdxW+NZt15m7fnkhyGqepX197c3ELHysq9jalg9Ejqw3tH8tyhLHIU9eKlq+hIaTmdPX+e68+kuU8+SjOmFVH+0MGhrDLoMTI5jv/jWbVxQT8P1w35Fmgz97CaP1fZwZMKrz16OlzP44f1QCyWKQ8fMpjeef1lktmq4ZguXn/uPO3Yc5Dm/exXVMpH7Ha0yMYp09Vlbots+DcMy6WB2VmUkpJM8XzgXajL+YYLdPJUFR3gmaW79hVTOX+desetE2jyhLGUl5sT0mojLZbW1jZquHCB9h48QvJvOdAwL3cgJScldSmTpkuXqIy/AZL6P/5sM73/8efe7N6W1taQOOBBOFbI+ndg2OAcenPZIhomGx1v0PLqGeoiR+I28vt4mdX5Uz4FQFlFx2KR5xCRJfNexPTbi3jjL+Tp+KMpu38mpfGkuuSkRG8PI4HHtHtGZBOorV08/DrPG2Iryd6JHFgnxxCdqDhNG/l0Ch+t30B7eaq/zDKdyMcqPXLfLJpaNI7XdVlagVVZNCuv8r9c9bYnShFXuPdYpIeKymo+CPFdFkyjtxd0520TvHOv9OyR5gkmiTnF8R6N/Pk/h0DxnJv84exaWlo9Fhebmqi69gwfS7WV1n24nk/HsI8glACv0P/GHosluz58BPAD35hO/fntSTwfyCcf8oW6yC+/fEAor5If8oYtey+mRTb0Hmlp1KtHOmXxSYwKx9xIN/Dek+xd5PJJm3r36kHyNkk2qID0AqKRDbL+7DlvozzGU9NlD2VfcQkd59mk51gAsnHJBpeanEL5fAqFnAFZlMqT9eRxgXV1Wt9lCdWdqac9B45QQ2Oj9y1KuMUiNcjnH888v5yKS0p5jy2eJxL2ogksxJtvHE7D+VQQuTnZlJ6eygdbJrTXfpUYhWFrWytLvYlqudZSZiFSlWOpDpeUeW99JBcsXScAsVgylN3tIfxLKxtc+y/oVb+xlusIDJO9Czly1ns7whOv5GA320WeOzkxiQbwHoscxSvCE6nIWyM5+E7uv1oGXq0siMaLTSQfTNbVn6NKfs4qfpUWAVy7pKWmeIJJ4s+RWi9/pnHtmC/d5p0D2T+QPqQnecWXGiIhFpm0Nn/JCtrGRzjL5zjScw4fCpHFwhcecrS2nDJB9vICHCQpqa+dRZvHvoEFcqb+LFVV11IFn4pB2GBP5UvJhvwDiCVkdG49UDYa2Xjkf1e/SwuIJrCRdWfVkRDLiZOVtPgXb9BG/jykurbuuu14LK4RrIfmMptosLhuoYp/CLEoDjfarUVMLPzN08btcs7b64sl2n3j+fn1LbtgZuj79CAIAp0QgFg6gaP8LohFecDRbA9iiSb96D43xBJd/qqfHWJRHW+nzUEsneLBnV0hALF0hV5sPxZiie38nK4eYnE6nogWB7FEFK+/Vw6x+Dd/iMW/2Ue8c4gl4oidfQKIxdloYr8wiCX2Mwy1A4glVHJ4nJEAxGJEpHYAxKI22ug3BrFEP4NoVQCxRIu8D54XYvFByB20CLF0AAY/7jqBQf2zaOHcx2na5PE0aGD/rq+Q11DO55F5YdmbtJFPG1lZUxuWdWIl4ScAsYSfKdZ4mUBOVj+a/8M5VFQ4hrL5+srhWCoqq2jZytW0mU/IVNXB0c3heB6so2sEIJau8cOjOyHQl88V8+DsGVQ4dhSfTrNfJyPt76qqqaPVa/9O+w+XWJ0gy37NGBlOAhBLOGliXUEE5Ex5A3ivJUNORBWmk4A38ak1j/M5guWEUrjWTxBup25ALE7FgWJAQAcBiEVHjugCBJwiALE4FQeKAQEdBCAWHTmiCxBwigDE4lQcKAYEdBCAWHTkiC5AwCkCEItTcaAYENBBAGLRkSO6AAGnCEAsTsWBYkBABwGIRUeO6AIEnCIAsTgVB4oBAR0EIBYdOaILEHCKAMTiVBwoBgR0EIBYdOSILkDAKQIQi1NxoBgQ0EEAYtGRI7oAAacIQCxOxYFiQEAHAYhFR47oAgScIgCxOBUHigEBHQQgFh05ogsQcIoAxOJUHCgGBHQQgFh05IguQMApAhCLU3GgGBDQQQBi0ZEjugABpwhALE7FgWJAQAcBiEVHjugCBJwiALE4FQeKAQEdBCAWHTmiCxBwigDE4lQcKAYEdBCAWHTkiC5AwCkCEItTcaAYENBBAGLRkSO6AAGnCEAsTsWBYkBABwGIRUeO6AIEnCIAsTgVB4oBAR0EIBYdOaILEHCKAMTiVBwoBgR0EIBYdOSILkDAKQIQi1NxoBgQ0EEAYtGRI7oAAacIQCxOxYFiQEAHAYhFR47oAgScIgCxOBUHigEBHQQgFh05ogsQcIoAxOJUHCgGBHQQgFh05IguQMApAhCLU3GgGBDQQQBi0ZEjugABpwhALE7FgWJAQAcBiEVHjugCBJwiALE4FQeKAQEdBCAWHTmiCxBwigDE4lQcKAYEdBCAWHTkiC5AwCkCEItTcaAYENBBAGLRkSO6AAGnCEAsTsWBYkBABwGIRUeO6AIEnCIAsTgVB4oBAR0EIBYdOaILEHCKAMTiVBwoBgR0EIBYdOSILkDAKQIQi1NxoBgQ0EEAYtGRI7oAAacIQCxOxYFiQEAHAYhFR47oAgScIgCxOBUHigEBHQQgFh05ogsQcIoAxOJUHCgGBHQQgFh05IguQMApAhCLU3GgGBDQQQBi0ZEjugABpwhALE7FgWJAQAcBiEVHjugCBJwiALE4FQeKAQEdBCAWHTmiCxBwigDE4lQcKAYEdBCAWHTkiC5AwCkCEItTcaAYENBBAGLRkSO6AAGnCEAsTsWBYkBABwGIRUeO6AIEnCLwP4VNpuqSyr09AAAAAElFTkSuQmCC)\n",
        "\n",
        "# TRABALHO FINAL\n",
        "\n",
        "## Ciência de Dados Aplicada à Negócios\n",
        "\n",
        "### Mayara Gasparoto Tonin\n",
        "### RA 2111004\n",
        "\n",
        "### Dezembro de 2022"
      ],
      "metadata": {
        "id": "3XqSlWE8WFyV"
      }
    },
    {
      "cell_type": "markdown",
      "source": [
        "## COLETA E MANIPULAÇÃO DOS DADOS"
      ],
      "metadata": {
        "id": "2HWg14B0Wfpn"
      }
    },
    {
      "cell_type": "code",
      "execution_count": 1,
      "metadata": {
        "id": "TGroCn-QMsn8"
      },
      "outputs": [],
      "source": [
        "from google.colab import drive \n",
        "\n",
        "from google.colab import files\n",
        "\n",
        "import pandas as pd \n",
        "\n",
        "import seaborn as sn\n",
        "\n",
        "import numpy as np\n",
        "\n",
        "import matplotlib.pyplot as plt"
      ]
    },
    {
      "cell_type": "code",
      "source": [
        "drive.mount('/content/drive')"
      ],
      "metadata": {
        "colab": {
          "base_uri": "https://localhost:8080/"
        },
        "id": "sWCgwuWoNCbO",
        "outputId": "ef9df0cd-dfd7-4b97-89f7-7fdf69f7c95c"
      },
      "execution_count": 12,
      "outputs": [
        {
          "output_type": "stream",
          "name": "stdout",
          "text": [
            "Drive already mounted at /content/drive; to attempt to forcibly remount, call drive.mount(\"/content/drive\", force_remount=True).\n"
          ]
        }
      ]
    },
    {
      "cell_type": "code",
      "source": [
        "Tabela = '/content/drive/My Drive/empreendimento-operacao-historico-vf.xlsx'\n",
        "tabela = pd.read_excel(Tabela)"
      ],
      "metadata": {
        "id": "HLV9sx0RNLMj"
      },
      "execution_count": 13,
      "outputs": []
    },
    {
      "cell_type": "code",
      "source": [
        "display(tabela)"
      ],
      "metadata": {
        "colab": {
          "base_uri": "https://localhost:8080/",
          "height": 654
        },
        "id": "OEzyJpH3Nq1t",
        "outputId": "6ba6e35c-fb84-4043-8cfa-2a04b3fe4c54"
      },
      "execution_count": 14,
      "outputs": [
        {
          "output_type": "display_data",
          "data": {
            "text/plain": [
              "    DatGeracaoConjuntoDados SigTipoGeracao  QtdUsinasPeriodo  \\\n",
              "0                2022-11-01            CGH                 0   \n",
              "1                2022-11-01            EOL                 7   \n",
              "2                2022-11-01            PCH               303   \n",
              "3                2022-11-01            UFV                 0   \n",
              "4                2022-11-01            UHE               133   \n",
              "..                      ...            ...               ...   \n",
              "392              2022-11-01            UFV             14624   \n",
              "393              2022-11-01            PCH               425   \n",
              "394              2022-11-01            UHE               216   \n",
              "395              2022-11-01            UTE              3126   \n",
              "396              2022-11-01            UTN                 2   \n",
              "\n",
              "     MdaPotenciaInstaladaKW  MesReferencia  AnoReferencia  \n",
              "0              0.000000e+00             12           2001  \n",
              "1              2.100000e+04             12           2001  \n",
              "2              8.550000e+05             12           2001  \n",
              "3              0.000000e+00             12           2001  \n",
              "4              6.155400e+07             12           2001  \n",
              "..                      ...            ...            ...  \n",
              "392            6.457904e+06              9           2022  \n",
              "393            5.599639e+06              9           2022  \n",
              "394            1.031897e+08              9           2022  \n",
              "395            4.562674e+07              9           2022  \n",
              "396            1.990000e+06              9           2022  \n",
              "\n",
              "[397 rows x 6 columns]"
            ],
            "text/html": [
              "\n",
              "  <div id=\"df-64798309-4835-466f-a6e6-150d4550ed66\">\n",
              "    <div class=\"colab-df-container\">\n",
              "      <div>\n",
              "<style scoped>\n",
              "    .dataframe tbody tr th:only-of-type {\n",
              "        vertical-align: middle;\n",
              "    }\n",
              "\n",
              "    .dataframe tbody tr th {\n",
              "        vertical-align: top;\n",
              "    }\n",
              "\n",
              "    .dataframe thead th {\n",
              "        text-align: right;\n",
              "    }\n",
              "</style>\n",
              "<table border=\"1\" class=\"dataframe\">\n",
              "  <thead>\n",
              "    <tr style=\"text-align: right;\">\n",
              "      <th></th>\n",
              "      <th>DatGeracaoConjuntoDados</th>\n",
              "      <th>SigTipoGeracao</th>\n",
              "      <th>QtdUsinasPeriodo</th>\n",
              "      <th>MdaPotenciaInstaladaKW</th>\n",
              "      <th>MesReferencia</th>\n",
              "      <th>AnoReferencia</th>\n",
              "    </tr>\n",
              "  </thead>\n",
              "  <tbody>\n",
              "    <tr>\n",
              "      <th>0</th>\n",
              "      <td>2022-11-01</td>\n",
              "      <td>CGH</td>\n",
              "      <td>0</td>\n",
              "      <td>0.000000e+00</td>\n",
              "      <td>12</td>\n",
              "      <td>2001</td>\n",
              "    </tr>\n",
              "    <tr>\n",
              "      <th>1</th>\n",
              "      <td>2022-11-01</td>\n",
              "      <td>EOL</td>\n",
              "      <td>7</td>\n",
              "      <td>2.100000e+04</td>\n",
              "      <td>12</td>\n",
              "      <td>2001</td>\n",
              "    </tr>\n",
              "    <tr>\n",
              "      <th>2</th>\n",
              "      <td>2022-11-01</td>\n",
              "      <td>PCH</td>\n",
              "      <td>303</td>\n",
              "      <td>8.550000e+05</td>\n",
              "      <td>12</td>\n",
              "      <td>2001</td>\n",
              "    </tr>\n",
              "    <tr>\n",
              "      <th>3</th>\n",
              "      <td>2022-11-01</td>\n",
              "      <td>UFV</td>\n",
              "      <td>0</td>\n",
              "      <td>0.000000e+00</td>\n",
              "      <td>12</td>\n",
              "      <td>2001</td>\n",
              "    </tr>\n",
              "    <tr>\n",
              "      <th>4</th>\n",
              "      <td>2022-11-01</td>\n",
              "      <td>UHE</td>\n",
              "      <td>133</td>\n",
              "      <td>6.155400e+07</td>\n",
              "      <td>12</td>\n",
              "      <td>2001</td>\n",
              "    </tr>\n",
              "    <tr>\n",
              "      <th>...</th>\n",
              "      <td>...</td>\n",
              "      <td>...</td>\n",
              "      <td>...</td>\n",
              "      <td>...</td>\n",
              "      <td>...</td>\n",
              "      <td>...</td>\n",
              "    </tr>\n",
              "    <tr>\n",
              "      <th>392</th>\n",
              "      <td>2022-11-01</td>\n",
              "      <td>UFV</td>\n",
              "      <td>14624</td>\n",
              "      <td>6.457904e+06</td>\n",
              "      <td>9</td>\n",
              "      <td>2022</td>\n",
              "    </tr>\n",
              "    <tr>\n",
              "      <th>393</th>\n",
              "      <td>2022-11-01</td>\n",
              "      <td>PCH</td>\n",
              "      <td>425</td>\n",
              "      <td>5.599639e+06</td>\n",
              "      <td>9</td>\n",
              "      <td>2022</td>\n",
              "    </tr>\n",
              "    <tr>\n",
              "      <th>394</th>\n",
              "      <td>2022-11-01</td>\n",
              "      <td>UHE</td>\n",
              "      <td>216</td>\n",
              "      <td>1.031897e+08</td>\n",
              "      <td>9</td>\n",
              "      <td>2022</td>\n",
              "    </tr>\n",
              "    <tr>\n",
              "      <th>395</th>\n",
              "      <td>2022-11-01</td>\n",
              "      <td>UTE</td>\n",
              "      <td>3126</td>\n",
              "      <td>4.562674e+07</td>\n",
              "      <td>9</td>\n",
              "      <td>2022</td>\n",
              "    </tr>\n",
              "    <tr>\n",
              "      <th>396</th>\n",
              "      <td>2022-11-01</td>\n",
              "      <td>UTN</td>\n",
              "      <td>2</td>\n",
              "      <td>1.990000e+06</td>\n",
              "      <td>9</td>\n",
              "      <td>2022</td>\n",
              "    </tr>\n",
              "  </tbody>\n",
              "</table>\n",
              "<p>397 rows × 6 columns</p>\n",
              "</div>\n",
              "      <button class=\"colab-df-convert\" onclick=\"convertToInteractive('df-64798309-4835-466f-a6e6-150d4550ed66')\"\n",
              "              title=\"Convert this dataframe to an interactive table.\"\n",
              "              style=\"display:none;\">\n",
              "        \n",
              "  <svg xmlns=\"http://www.w3.org/2000/svg\" height=\"24px\"viewBox=\"0 0 24 24\"\n",
              "       width=\"24px\">\n",
              "    <path d=\"M0 0h24v24H0V0z\" fill=\"none\"/>\n",
              "    <path d=\"M18.56 5.44l.94 2.06.94-2.06 2.06-.94-2.06-.94-.94-2.06-.94 2.06-2.06.94zm-11 1L8.5 8.5l.94-2.06 2.06-.94-2.06-.94L8.5 2.5l-.94 2.06-2.06.94zm10 10l.94 2.06.94-2.06 2.06-.94-2.06-.94-.94-2.06-.94 2.06-2.06.94z\"/><path d=\"M17.41 7.96l-1.37-1.37c-.4-.4-.92-.59-1.43-.59-.52 0-1.04.2-1.43.59L10.3 9.45l-7.72 7.72c-.78.78-.78 2.05 0 2.83L4 21.41c.39.39.9.59 1.41.59.51 0 1.02-.2 1.41-.59l7.78-7.78 2.81-2.81c.8-.78.8-2.07 0-2.86zM5.41 20L4 18.59l7.72-7.72 1.47 1.35L5.41 20z\"/>\n",
              "  </svg>\n",
              "      </button>\n",
              "      \n",
              "  <style>\n",
              "    .colab-df-container {\n",
              "      display:flex;\n",
              "      flex-wrap:wrap;\n",
              "      gap: 12px;\n",
              "    }\n",
              "\n",
              "    .colab-df-convert {\n",
              "      background-color: #E8F0FE;\n",
              "      border: none;\n",
              "      border-radius: 50%;\n",
              "      cursor: pointer;\n",
              "      display: none;\n",
              "      fill: #1967D2;\n",
              "      height: 32px;\n",
              "      padding: 0 0 0 0;\n",
              "      width: 32px;\n",
              "    }\n",
              "\n",
              "    .colab-df-convert:hover {\n",
              "      background-color: #E2EBFA;\n",
              "      box-shadow: 0px 1px 2px rgba(60, 64, 67, 0.3), 0px 1px 3px 1px rgba(60, 64, 67, 0.15);\n",
              "      fill: #174EA6;\n",
              "    }\n",
              "\n",
              "    [theme=dark] .colab-df-convert {\n",
              "      background-color: #3B4455;\n",
              "      fill: #D2E3FC;\n",
              "    }\n",
              "\n",
              "    [theme=dark] .colab-df-convert:hover {\n",
              "      background-color: #434B5C;\n",
              "      box-shadow: 0px 1px 3px 1px rgba(0, 0, 0, 0.15);\n",
              "      filter: drop-shadow(0px 1px 2px rgba(0, 0, 0, 0.3));\n",
              "      fill: #FFFFFF;\n",
              "    }\n",
              "  </style>\n",
              "\n",
              "      <script>\n",
              "        const buttonEl =\n",
              "          document.querySelector('#df-64798309-4835-466f-a6e6-150d4550ed66 button.colab-df-convert');\n",
              "        buttonEl.style.display =\n",
              "          google.colab.kernel.accessAllowed ? 'block' : 'none';\n",
              "\n",
              "        async function convertToInteractive(key) {\n",
              "          const element = document.querySelector('#df-64798309-4835-466f-a6e6-150d4550ed66');\n",
              "          const dataTable =\n",
              "            await google.colab.kernel.invokeFunction('convertToInteractive',\n",
              "                                                     [key], {});\n",
              "          if (!dataTable) return;\n",
              "\n",
              "          const docLinkHtml = 'Like what you see? Visit the ' +\n",
              "            '<a target=\"_blank\" href=https://colab.research.google.com/notebooks/data_table.ipynb>data table notebook</a>'\n",
              "            + ' to learn more about interactive tables.';\n",
              "          element.innerHTML = '';\n",
              "          dataTable['output_type'] = 'display_data';\n",
              "          await google.colab.output.renderOutput(dataTable, element);\n",
              "          const docLink = document.createElement('div');\n",
              "          docLink.innerHTML = docLinkHtml;\n",
              "          element.appendChild(docLink);\n",
              "        }\n",
              "      </script>\n",
              "    </div>\n",
              "  </div>\n",
              "  "
            ]
          },
          "metadata": {}
        }
      ]
    },
    {
      "cell_type": "markdown",
      "source": [
        "A visualização da tabela fornece uma ideia dos dados que foram coletados do site do Ministério de Minas e Energia, que disponibilizou informações acerca das diversas fontes de energia elétrica no Brasil nos últimos 20 anos."
      ],
      "metadata": {
        "id": "FiEkfDcKnCL1"
      }
    },
    {
      "cell_type": "markdown",
      "source": [
        "### Total de usinas de geração de energia no Brasil"
      ],
      "metadata": {
        "id": "04CtBbu0oPtx"
      }
    },
    {
      "cell_type": "code",
      "source": [
        "Total_Usinas = tabela['QtdUsinasPeriodo'].sum()\n",
        "Total_Usinas"
      ],
      "metadata": {
        "colab": {
          "base_uri": "https://localhost:8080/"
        },
        "id": "6EZN66PNR1Eq",
        "outputId": "15f4db28-7182-4721-d37f-2685cf79f76d"
      },
      "execution_count": 15,
      "outputs": [
        {
          "output_type": "execute_result",
          "data": {
            "text/plain": [
              "291942"
            ]
          },
          "metadata": {},
          "execution_count": 15
        }
      ]
    },
    {
      "cell_type": "markdown",
      "source": [
        "Há quase 300 mil usinas de geração de energia no Brasil."
      ],
      "metadata": {
        "id": "1HH8N72XoqO4"
      }
    },
    {
      "cell_type": "markdown",
      "source": [
        "### Total de capacidade instalada no Brasil"
      ],
      "metadata": {
        "id": "RfxyKXCsoXlq"
      }
    },
    {
      "cell_type": "code",
      "source": [
        "Total_Capacidade = tabela['MdaPotenciaInstaladaKW'].sum()\n",
        "Total_Capacidade"
      ],
      "metadata": {
        "colab": {
          "base_uri": "https://localhost:8080/"
        },
        "id": "wwoCDjcmll1k",
        "outputId": "9b410b42-ce4b-449d-d1f6-6c7771b31e5a"
      },
      "execution_count": 16,
      "outputs": [
        {
          "output_type": "execute_result",
          "data": {
            "text/plain": [
              "7570441329.380001"
            ]
          },
          "metadata": {},
          "execution_count": 16
        }
      ]
    },
    {
      "cell_type": "markdown",
      "source": [
        "A capacidade instalada no Brasil é de mais de 7.500 GW. Em outras palavras, essa é a potência de geração de energia elétrica do país."
      ],
      "metadata": {
        "id": "yWaT7Ou6o8SZ"
      }
    },
    {
      "cell_type": "markdown",
      "source": [
        "### Fontes de geração de energia no Brasil"
      ],
      "metadata": {
        "id": "Xox2PosUpgoT"
      }
    },
    {
      "cell_type": "code",
      "source": [
        "Total_Tipo_Geracao = tabela[[\"SigTipoGeracao\", \"QtdUsinasPeriodo\"]].groupby([\"SigTipoGeracao\"]).sum()\n",
        "Total_Tipo_Geracao"
      ],
      "metadata": {
        "colab": {
          "base_uri": "https://localhost:8080/",
          "height": 278
        },
        "id": "87M1LHGCSL1y",
        "outputId": "e2aea920-7a65-48c0-8e11-0447f238e11f"
      },
      "execution_count": 21,
      "outputs": [
        {
          "output_type": "execute_result",
          "data": {
            "text/plain": [
              "                QtdUsinasPeriodo\n",
              "SigTipoGeracao                  \n",
              "CGH                        27916\n",
              "CGU                           19\n",
              "EOL                        18809\n",
              "PCH                        22258\n",
              "UFV                        88257\n",
              "UHE                        10720\n",
              "UTE                       123855\n",
              "UTN                          108"
            ],
            "text/html": [
              "\n",
              "  <div id=\"df-c8436762-f8c5-4ff9-b112-1450b7621064\">\n",
              "    <div class=\"colab-df-container\">\n",
              "      <div>\n",
              "<style scoped>\n",
              "    .dataframe tbody tr th:only-of-type {\n",
              "        vertical-align: middle;\n",
              "    }\n",
              "\n",
              "    .dataframe tbody tr th {\n",
              "        vertical-align: top;\n",
              "    }\n",
              "\n",
              "    .dataframe thead th {\n",
              "        text-align: right;\n",
              "    }\n",
              "</style>\n",
              "<table border=\"1\" class=\"dataframe\">\n",
              "  <thead>\n",
              "    <tr style=\"text-align: right;\">\n",
              "      <th></th>\n",
              "      <th>QtdUsinasPeriodo</th>\n",
              "    </tr>\n",
              "    <tr>\n",
              "      <th>SigTipoGeracao</th>\n",
              "      <th></th>\n",
              "    </tr>\n",
              "  </thead>\n",
              "  <tbody>\n",
              "    <tr>\n",
              "      <th>CGH</th>\n",
              "      <td>27916</td>\n",
              "    </tr>\n",
              "    <tr>\n",
              "      <th>CGU</th>\n",
              "      <td>19</td>\n",
              "    </tr>\n",
              "    <tr>\n",
              "      <th>EOL</th>\n",
              "      <td>18809</td>\n",
              "    </tr>\n",
              "    <tr>\n",
              "      <th>PCH</th>\n",
              "      <td>22258</td>\n",
              "    </tr>\n",
              "    <tr>\n",
              "      <th>UFV</th>\n",
              "      <td>88257</td>\n",
              "    </tr>\n",
              "    <tr>\n",
              "      <th>UHE</th>\n",
              "      <td>10720</td>\n",
              "    </tr>\n",
              "    <tr>\n",
              "      <th>UTE</th>\n",
              "      <td>123855</td>\n",
              "    </tr>\n",
              "    <tr>\n",
              "      <th>UTN</th>\n",
              "      <td>108</td>\n",
              "    </tr>\n",
              "  </tbody>\n",
              "</table>\n",
              "</div>\n",
              "      <button class=\"colab-df-convert\" onclick=\"convertToInteractive('df-c8436762-f8c5-4ff9-b112-1450b7621064')\"\n",
              "              title=\"Convert this dataframe to an interactive table.\"\n",
              "              style=\"display:none;\">\n",
              "        \n",
              "  <svg xmlns=\"http://www.w3.org/2000/svg\" height=\"24px\"viewBox=\"0 0 24 24\"\n",
              "       width=\"24px\">\n",
              "    <path d=\"M0 0h24v24H0V0z\" fill=\"none\"/>\n",
              "    <path d=\"M18.56 5.44l.94 2.06.94-2.06 2.06-.94-2.06-.94-.94-2.06-.94 2.06-2.06.94zm-11 1L8.5 8.5l.94-2.06 2.06-.94-2.06-.94L8.5 2.5l-.94 2.06-2.06.94zm10 10l.94 2.06.94-2.06 2.06-.94-2.06-.94-.94-2.06-.94 2.06-2.06.94z\"/><path d=\"M17.41 7.96l-1.37-1.37c-.4-.4-.92-.59-1.43-.59-.52 0-1.04.2-1.43.59L10.3 9.45l-7.72 7.72c-.78.78-.78 2.05 0 2.83L4 21.41c.39.39.9.59 1.41.59.51 0 1.02-.2 1.41-.59l7.78-7.78 2.81-2.81c.8-.78.8-2.07 0-2.86zM5.41 20L4 18.59l7.72-7.72 1.47 1.35L5.41 20z\"/>\n",
              "  </svg>\n",
              "      </button>\n",
              "      \n",
              "  <style>\n",
              "    .colab-df-container {\n",
              "      display:flex;\n",
              "      flex-wrap:wrap;\n",
              "      gap: 12px;\n",
              "    }\n",
              "\n",
              "    .colab-df-convert {\n",
              "      background-color: #E8F0FE;\n",
              "      border: none;\n",
              "      border-radius: 50%;\n",
              "      cursor: pointer;\n",
              "      display: none;\n",
              "      fill: #1967D2;\n",
              "      height: 32px;\n",
              "      padding: 0 0 0 0;\n",
              "      width: 32px;\n",
              "    }\n",
              "\n",
              "    .colab-df-convert:hover {\n",
              "      background-color: #E2EBFA;\n",
              "      box-shadow: 0px 1px 2px rgba(60, 64, 67, 0.3), 0px 1px 3px 1px rgba(60, 64, 67, 0.15);\n",
              "      fill: #174EA6;\n",
              "    }\n",
              "\n",
              "    [theme=dark] .colab-df-convert {\n",
              "      background-color: #3B4455;\n",
              "      fill: #D2E3FC;\n",
              "    }\n",
              "\n",
              "    [theme=dark] .colab-df-convert:hover {\n",
              "      background-color: #434B5C;\n",
              "      box-shadow: 0px 1px 3px 1px rgba(0, 0, 0, 0.15);\n",
              "      filter: drop-shadow(0px 1px 2px rgba(0, 0, 0, 0.3));\n",
              "      fill: #FFFFFF;\n",
              "    }\n",
              "  </style>\n",
              "\n",
              "      <script>\n",
              "        const buttonEl =\n",
              "          document.querySelector('#df-c8436762-f8c5-4ff9-b112-1450b7621064 button.colab-df-convert');\n",
              "        buttonEl.style.display =\n",
              "          google.colab.kernel.accessAllowed ? 'block' : 'none';\n",
              "\n",
              "        async function convertToInteractive(key) {\n",
              "          const element = document.querySelector('#df-c8436762-f8c5-4ff9-b112-1450b7621064');\n",
              "          const dataTable =\n",
              "            await google.colab.kernel.invokeFunction('convertToInteractive',\n",
              "                                                     [key], {});\n",
              "          if (!dataTable) return;\n",
              "\n",
              "          const docLinkHtml = 'Like what you see? Visit the ' +\n",
              "            '<a target=\"_blank\" href=https://colab.research.google.com/notebooks/data_table.ipynb>data table notebook</a>'\n",
              "            + ' to learn more about interactive tables.';\n",
              "          element.innerHTML = '';\n",
              "          dataTable['output_type'] = 'display_data';\n",
              "          await google.colab.output.renderOutput(dataTable, element);\n",
              "          const docLink = document.createElement('div');\n",
              "          docLink.innerHTML = docLinkHtml;\n",
              "          element.appendChild(docLink);\n",
              "        }\n",
              "      </script>\n",
              "    </div>\n",
              "  </div>\n",
              "  "
            ]
          },
          "metadata": {},
          "execution_count": 21
        }
      ]
    },
    {
      "cell_type": "markdown",
      "source": [
        "Existem diversas fontes de geração de energia no Brasil. \n",
        "São mais de 60 mil hidrelétricas: CGH (Centrais Geradoras Hidrelétricas), PCH (Pequenas Centrais Hidrelétricas) e UHE (Usinas Hidrelétricas). \n",
        "As térmicas (UTE) e as fotovoltaicas (UFV) também possuem número expressivo: mais de 120 mil e quase 90 mil, respectivamente. Por sua vez, as eólicas (EOL) são apenas cerca de 19 mil."
      ],
      "metadata": {
        "id": "yDVlF2-Jp0vR"
      }
    },
    {
      "cell_type": "markdown",
      "source": [
        "### Capacidade das fontes de energia no Brasil"
      ],
      "metadata": {
        "id": "rQV5zA1Zs8jt"
      }
    },
    {
      "cell_type": "code",
      "source": [
        "Total_Tipo_Capacidade = tabela[[\"SigTipoGeracao\", \"MdaPotenciaInstaladaKW\"]].groupby([\"SigTipoGeracao\"]).sum()\n",
        "Total_Tipo_Capacidade"
      ],
      "metadata": {
        "colab": {
          "base_uri": "https://localhost:8080/",
          "height": 278
        },
        "id": "ZmskrRgXr0VH",
        "outputId": "d5bef504-4e11-49af-cb28-015a991f3f09"
      },
      "execution_count": 22,
      "outputs": [
        {
          "output_type": "execute_result",
          "data": {
            "text/plain": [
              "                MdaPotenciaInstaladaKW\n",
              "SigTipoGeracao                        \n",
              "CGH                       2.458596e+07\n",
              "CGU                       9.500000e+02\n",
              "EOL                       4.622385e+08\n",
              "PCH                       2.345826e+08\n",
              "UFV                       5.938802e+07\n",
              "UHE                       4.746487e+09\n",
              "UTE                       1.935468e+09\n",
              "UTN                       1.076910e+08"
            ],
            "text/html": [
              "\n",
              "  <div id=\"df-ec0a5084-b8b5-430a-9571-bd4b3d90f534\">\n",
              "    <div class=\"colab-df-container\">\n",
              "      <div>\n",
              "<style scoped>\n",
              "    .dataframe tbody tr th:only-of-type {\n",
              "        vertical-align: middle;\n",
              "    }\n",
              "\n",
              "    .dataframe tbody tr th {\n",
              "        vertical-align: top;\n",
              "    }\n",
              "\n",
              "    .dataframe thead th {\n",
              "        text-align: right;\n",
              "    }\n",
              "</style>\n",
              "<table border=\"1\" class=\"dataframe\">\n",
              "  <thead>\n",
              "    <tr style=\"text-align: right;\">\n",
              "      <th></th>\n",
              "      <th>MdaPotenciaInstaladaKW</th>\n",
              "    </tr>\n",
              "    <tr>\n",
              "      <th>SigTipoGeracao</th>\n",
              "      <th></th>\n",
              "    </tr>\n",
              "  </thead>\n",
              "  <tbody>\n",
              "    <tr>\n",
              "      <th>CGH</th>\n",
              "      <td>2.458596e+07</td>\n",
              "    </tr>\n",
              "    <tr>\n",
              "      <th>CGU</th>\n",
              "      <td>9.500000e+02</td>\n",
              "    </tr>\n",
              "    <tr>\n",
              "      <th>EOL</th>\n",
              "      <td>4.622385e+08</td>\n",
              "    </tr>\n",
              "    <tr>\n",
              "      <th>PCH</th>\n",
              "      <td>2.345826e+08</td>\n",
              "    </tr>\n",
              "    <tr>\n",
              "      <th>UFV</th>\n",
              "      <td>5.938802e+07</td>\n",
              "    </tr>\n",
              "    <tr>\n",
              "      <th>UHE</th>\n",
              "      <td>4.746487e+09</td>\n",
              "    </tr>\n",
              "    <tr>\n",
              "      <th>UTE</th>\n",
              "      <td>1.935468e+09</td>\n",
              "    </tr>\n",
              "    <tr>\n",
              "      <th>UTN</th>\n",
              "      <td>1.076910e+08</td>\n",
              "    </tr>\n",
              "  </tbody>\n",
              "</table>\n",
              "</div>\n",
              "      <button class=\"colab-df-convert\" onclick=\"convertToInteractive('df-ec0a5084-b8b5-430a-9571-bd4b3d90f534')\"\n",
              "              title=\"Convert this dataframe to an interactive table.\"\n",
              "              style=\"display:none;\">\n",
              "        \n",
              "  <svg xmlns=\"http://www.w3.org/2000/svg\" height=\"24px\"viewBox=\"0 0 24 24\"\n",
              "       width=\"24px\">\n",
              "    <path d=\"M0 0h24v24H0V0z\" fill=\"none\"/>\n",
              "    <path d=\"M18.56 5.44l.94 2.06.94-2.06 2.06-.94-2.06-.94-.94-2.06-.94 2.06-2.06.94zm-11 1L8.5 8.5l.94-2.06 2.06-.94-2.06-.94L8.5 2.5l-.94 2.06-2.06.94zm10 10l.94 2.06.94-2.06 2.06-.94-2.06-.94-.94-2.06-.94 2.06-2.06.94z\"/><path d=\"M17.41 7.96l-1.37-1.37c-.4-.4-.92-.59-1.43-.59-.52 0-1.04.2-1.43.59L10.3 9.45l-7.72 7.72c-.78.78-.78 2.05 0 2.83L4 21.41c.39.39.9.59 1.41.59.51 0 1.02-.2 1.41-.59l7.78-7.78 2.81-2.81c.8-.78.8-2.07 0-2.86zM5.41 20L4 18.59l7.72-7.72 1.47 1.35L5.41 20z\"/>\n",
              "  </svg>\n",
              "      </button>\n",
              "      \n",
              "  <style>\n",
              "    .colab-df-container {\n",
              "      display:flex;\n",
              "      flex-wrap:wrap;\n",
              "      gap: 12px;\n",
              "    }\n",
              "\n",
              "    .colab-df-convert {\n",
              "      background-color: #E8F0FE;\n",
              "      border: none;\n",
              "      border-radius: 50%;\n",
              "      cursor: pointer;\n",
              "      display: none;\n",
              "      fill: #1967D2;\n",
              "      height: 32px;\n",
              "      padding: 0 0 0 0;\n",
              "      width: 32px;\n",
              "    }\n",
              "\n",
              "    .colab-df-convert:hover {\n",
              "      background-color: #E2EBFA;\n",
              "      box-shadow: 0px 1px 2px rgba(60, 64, 67, 0.3), 0px 1px 3px 1px rgba(60, 64, 67, 0.15);\n",
              "      fill: #174EA6;\n",
              "    }\n",
              "\n",
              "    [theme=dark] .colab-df-convert {\n",
              "      background-color: #3B4455;\n",
              "      fill: #D2E3FC;\n",
              "    }\n",
              "\n",
              "    [theme=dark] .colab-df-convert:hover {\n",
              "      background-color: #434B5C;\n",
              "      box-shadow: 0px 1px 3px 1px rgba(0, 0, 0, 0.15);\n",
              "      filter: drop-shadow(0px 1px 2px rgba(0, 0, 0, 0.3));\n",
              "      fill: #FFFFFF;\n",
              "    }\n",
              "  </style>\n",
              "\n",
              "      <script>\n",
              "        const buttonEl =\n",
              "          document.querySelector('#df-ec0a5084-b8b5-430a-9571-bd4b3d90f534 button.colab-df-convert');\n",
              "        buttonEl.style.display =\n",
              "          google.colab.kernel.accessAllowed ? 'block' : 'none';\n",
              "\n",
              "        async function convertToInteractive(key) {\n",
              "          const element = document.querySelector('#df-ec0a5084-b8b5-430a-9571-bd4b3d90f534');\n",
              "          const dataTable =\n",
              "            await google.colab.kernel.invokeFunction('convertToInteractive',\n",
              "                                                     [key], {});\n",
              "          if (!dataTable) return;\n",
              "\n",
              "          const docLinkHtml = 'Like what you see? Visit the ' +\n",
              "            '<a target=\"_blank\" href=https://colab.research.google.com/notebooks/data_table.ipynb>data table notebook</a>'\n",
              "            + ' to learn more about interactive tables.';\n",
              "          element.innerHTML = '';\n",
              "          dataTable['output_type'] = 'display_data';\n",
              "          await google.colab.output.renderOutput(dataTable, element);\n",
              "          const docLink = document.createElement('div');\n",
              "          docLink.innerHTML = docLinkHtml;\n",
              "          element.appendChild(docLink);\n",
              "        }\n",
              "      </script>\n",
              "    </div>\n",
              "  </div>\n",
              "  "
            ]
          },
          "metadata": {},
          "execution_count": 22
        }
      ]
    },
    {
      "cell_type": "markdown",
      "source": [
        "A capacidade de geração de energia hidrelétrica é muito maior do que todas as outras: pouco mais de 5 mil GW. Representa cerca de 66% da matriz energética brasileira (cerca de 7.500 GW). As térmicas têm capacidade total de cerca de 1.900 GW, as eólicas de 462 GW e as fotovoltaicas de 59 GW."
      ],
      "metadata": {
        "id": "_EufJHdptA0k"
      }
    },
    {
      "cell_type": "markdown",
      "source": [
        "### Quantidade de usinas por ano"
      ],
      "metadata": {
        "id": "J1DwQGsUvNfM"
      }
    },
    {
      "cell_type": "code",
      "source": [
        "Total_Usinas_Ano = tabela[[\"QtdUsinasPeriodo\", \"AnoReferencia\"]].groupby([\"AnoReferencia\"]).sum()\n",
        "Total_Usinas_Ano"
      ],
      "metadata": {
        "colab": {
          "base_uri": "https://localhost:8080/",
          "height": 579
        },
        "id": "23yw6fEhUnJw",
        "outputId": "0fc2fca7-b2de-4192-eafa-1f880750acd9"
      },
      "execution_count": 23,
      "outputs": [
        {
          "output_type": "execute_result",
          "data": {
            "text/plain": [
              "               QtdUsinasPeriodo\n",
              "AnoReferencia                  \n",
              "2001                       1045\n",
              "2002                       1155\n",
              "2003                       1264\n",
              "2004                       1345\n",
              "2005                       1480\n",
              "2006                       1596\n",
              "2007                       1681\n",
              "2008                       1994\n",
              "2009                       2180\n",
              "2010                       2334\n",
              "2011                       2608\n",
              "2012                      10675\n",
              "2013                      11765\n",
              "2014                      13362\n",
              "2015                      16926\n",
              "2016                      18245\n",
              "2017                      18994\n",
              "2018                      26354\n",
              "2019                      31724\n",
              "2020                      35962\n",
              "2021                      38772\n",
              "2022                      50481"
            ],
            "text/html": [
              "\n",
              "  <div id=\"df-cfccbf03-18df-4222-9116-4980d4f47b25\">\n",
              "    <div class=\"colab-df-container\">\n",
              "      <div>\n",
              "<style scoped>\n",
              "    .dataframe tbody tr th:only-of-type {\n",
              "        vertical-align: middle;\n",
              "    }\n",
              "\n",
              "    .dataframe tbody tr th {\n",
              "        vertical-align: top;\n",
              "    }\n",
              "\n",
              "    .dataframe thead th {\n",
              "        text-align: right;\n",
              "    }\n",
              "</style>\n",
              "<table border=\"1\" class=\"dataframe\">\n",
              "  <thead>\n",
              "    <tr style=\"text-align: right;\">\n",
              "      <th></th>\n",
              "      <th>QtdUsinasPeriodo</th>\n",
              "    </tr>\n",
              "    <tr>\n",
              "      <th>AnoReferencia</th>\n",
              "      <th></th>\n",
              "    </tr>\n",
              "  </thead>\n",
              "  <tbody>\n",
              "    <tr>\n",
              "      <th>2001</th>\n",
              "      <td>1045</td>\n",
              "    </tr>\n",
              "    <tr>\n",
              "      <th>2002</th>\n",
              "      <td>1155</td>\n",
              "    </tr>\n",
              "    <tr>\n",
              "      <th>2003</th>\n",
              "      <td>1264</td>\n",
              "    </tr>\n",
              "    <tr>\n",
              "      <th>2004</th>\n",
              "      <td>1345</td>\n",
              "    </tr>\n",
              "    <tr>\n",
              "      <th>2005</th>\n",
              "      <td>1480</td>\n",
              "    </tr>\n",
              "    <tr>\n",
              "      <th>2006</th>\n",
              "      <td>1596</td>\n",
              "    </tr>\n",
              "    <tr>\n",
              "      <th>2007</th>\n",
              "      <td>1681</td>\n",
              "    </tr>\n",
              "    <tr>\n",
              "      <th>2008</th>\n",
              "      <td>1994</td>\n",
              "    </tr>\n",
              "    <tr>\n",
              "      <th>2009</th>\n",
              "      <td>2180</td>\n",
              "    </tr>\n",
              "    <tr>\n",
              "      <th>2010</th>\n",
              "      <td>2334</td>\n",
              "    </tr>\n",
              "    <tr>\n",
              "      <th>2011</th>\n",
              "      <td>2608</td>\n",
              "    </tr>\n",
              "    <tr>\n",
              "      <th>2012</th>\n",
              "      <td>10675</td>\n",
              "    </tr>\n",
              "    <tr>\n",
              "      <th>2013</th>\n",
              "      <td>11765</td>\n",
              "    </tr>\n",
              "    <tr>\n",
              "      <th>2014</th>\n",
              "      <td>13362</td>\n",
              "    </tr>\n",
              "    <tr>\n",
              "      <th>2015</th>\n",
              "      <td>16926</td>\n",
              "    </tr>\n",
              "    <tr>\n",
              "      <th>2016</th>\n",
              "      <td>18245</td>\n",
              "    </tr>\n",
              "    <tr>\n",
              "      <th>2017</th>\n",
              "      <td>18994</td>\n",
              "    </tr>\n",
              "    <tr>\n",
              "      <th>2018</th>\n",
              "      <td>26354</td>\n",
              "    </tr>\n",
              "    <tr>\n",
              "      <th>2019</th>\n",
              "      <td>31724</td>\n",
              "    </tr>\n",
              "    <tr>\n",
              "      <th>2020</th>\n",
              "      <td>35962</td>\n",
              "    </tr>\n",
              "    <tr>\n",
              "      <th>2021</th>\n",
              "      <td>38772</td>\n",
              "    </tr>\n",
              "    <tr>\n",
              "      <th>2022</th>\n",
              "      <td>50481</td>\n",
              "    </tr>\n",
              "  </tbody>\n",
              "</table>\n",
              "</div>\n",
              "      <button class=\"colab-df-convert\" onclick=\"convertToInteractive('df-cfccbf03-18df-4222-9116-4980d4f47b25')\"\n",
              "              title=\"Convert this dataframe to an interactive table.\"\n",
              "              style=\"display:none;\">\n",
              "        \n",
              "  <svg xmlns=\"http://www.w3.org/2000/svg\" height=\"24px\"viewBox=\"0 0 24 24\"\n",
              "       width=\"24px\">\n",
              "    <path d=\"M0 0h24v24H0V0z\" fill=\"none\"/>\n",
              "    <path d=\"M18.56 5.44l.94 2.06.94-2.06 2.06-.94-2.06-.94-.94-2.06-.94 2.06-2.06.94zm-11 1L8.5 8.5l.94-2.06 2.06-.94-2.06-.94L8.5 2.5l-.94 2.06-2.06.94zm10 10l.94 2.06.94-2.06 2.06-.94-2.06-.94-.94-2.06-.94 2.06-2.06.94z\"/><path d=\"M17.41 7.96l-1.37-1.37c-.4-.4-.92-.59-1.43-.59-.52 0-1.04.2-1.43.59L10.3 9.45l-7.72 7.72c-.78.78-.78 2.05 0 2.83L4 21.41c.39.39.9.59 1.41.59.51 0 1.02-.2 1.41-.59l7.78-7.78 2.81-2.81c.8-.78.8-2.07 0-2.86zM5.41 20L4 18.59l7.72-7.72 1.47 1.35L5.41 20z\"/>\n",
              "  </svg>\n",
              "      </button>\n",
              "      \n",
              "  <style>\n",
              "    .colab-df-container {\n",
              "      display:flex;\n",
              "      flex-wrap:wrap;\n",
              "      gap: 12px;\n",
              "    }\n",
              "\n",
              "    .colab-df-convert {\n",
              "      background-color: #E8F0FE;\n",
              "      border: none;\n",
              "      border-radius: 50%;\n",
              "      cursor: pointer;\n",
              "      display: none;\n",
              "      fill: #1967D2;\n",
              "      height: 32px;\n",
              "      padding: 0 0 0 0;\n",
              "      width: 32px;\n",
              "    }\n",
              "\n",
              "    .colab-df-convert:hover {\n",
              "      background-color: #E2EBFA;\n",
              "      box-shadow: 0px 1px 2px rgba(60, 64, 67, 0.3), 0px 1px 3px 1px rgba(60, 64, 67, 0.15);\n",
              "      fill: #174EA6;\n",
              "    }\n",
              "\n",
              "    [theme=dark] .colab-df-convert {\n",
              "      background-color: #3B4455;\n",
              "      fill: #D2E3FC;\n",
              "    }\n",
              "\n",
              "    [theme=dark] .colab-df-convert:hover {\n",
              "      background-color: #434B5C;\n",
              "      box-shadow: 0px 1px 3px 1px rgba(0, 0, 0, 0.15);\n",
              "      filter: drop-shadow(0px 1px 2px rgba(0, 0, 0, 0.3));\n",
              "      fill: #FFFFFF;\n",
              "    }\n",
              "  </style>\n",
              "\n",
              "      <script>\n",
              "        const buttonEl =\n",
              "          document.querySelector('#df-cfccbf03-18df-4222-9116-4980d4f47b25 button.colab-df-convert');\n",
              "        buttonEl.style.display =\n",
              "          google.colab.kernel.accessAllowed ? 'block' : 'none';\n",
              "\n",
              "        async function convertToInteractive(key) {\n",
              "          const element = document.querySelector('#df-cfccbf03-18df-4222-9116-4980d4f47b25');\n",
              "          const dataTable =\n",
              "            await google.colab.kernel.invokeFunction('convertToInteractive',\n",
              "                                                     [key], {});\n",
              "          if (!dataTable) return;\n",
              "\n",
              "          const docLinkHtml = 'Like what you see? Visit the ' +\n",
              "            '<a target=\"_blank\" href=https://colab.research.google.com/notebooks/data_table.ipynb>data table notebook</a>'\n",
              "            + ' to learn more about interactive tables.';\n",
              "          element.innerHTML = '';\n",
              "          dataTable['output_type'] = 'display_data';\n",
              "          await google.colab.output.renderOutput(dataTable, element);\n",
              "          const docLink = document.createElement('div');\n",
              "          docLink.innerHTML = docLinkHtml;\n",
              "          element.appendChild(docLink);\n",
              "        }\n",
              "      </script>\n",
              "    </div>\n",
              "  </div>\n",
              "  "
            ]
          },
          "metadata": {},
          "execution_count": 23
        }
      ]
    },
    {
      "cell_type": "markdown",
      "source": [
        "O aumento anual da quantidade de usinas no país é evidente, sobretudo nos últimos 10 anos."
      ],
      "metadata": {
        "id": "C7PZkSs9vUuK"
      }
    },
    {
      "cell_type": "markdown",
      "source": [
        "## GRÁFICOS DOS PRINCIPAIS DADOS"
      ],
      "metadata": {
        "id": "XKL8UJc8mHfk"
      }
    },
    {
      "cell_type": "markdown",
      "source": [
        "### Quantidade de usinas por tipo de empreendimento"
      ],
      "metadata": {
        "id": "Adi6EIQMv-TR"
      }
    },
    {
      "cell_type": "code",
      "source": [
        "Total_TipoUsina = tabela[[\"SigTipoGeracao\", \"QtdUsinasPeriodo\"]].groupby([\"SigTipoGeracao\"]).sum()\n",
        "\n",
        "ax = Total_TipoUsina.plot.bar()\n",
        "ax.figure.set_size_inches(20,5)\n",
        "plt.xlabel(\"Tipos de Usinas\",size=15)\n",
        "plt.ylabel(\"Quantidade de Usinas\",size=14)\n",
        "plt.title(\"Tipos de Usinas / Quantidades de Usinas\",size=15)"
      ],
      "metadata": {
        "colab": {
          "base_uri": "https://localhost:8080/",
          "height": 386
        },
        "id": "Pyq5F6rAYZaw",
        "outputId": "234e3634-059c-4f43-9cce-8223c9c00e11"
      },
      "execution_count": 19,
      "outputs": [
        {
          "output_type": "execute_result",
          "data": {
            "text/plain": [
              "Text(0.5, 1.0, 'Tipos de Usinas / Quantidades de Usinas')"
            ]
          },
          "metadata": {},
          "execution_count": 19
        },
        {
          "output_type": "display_data",
          "data": {
            "text/plain": [
              "<Figure size 1440x360 with 1 Axes>"
            ],
            "image/png": "[encoded data removed]"
          },
          "metadata": {
            "needs_background": "light"
          }
        }
      ]
    },
    {
      "cell_type": "markdown",
      "source": [
        "Esse gráfico ilustra a expressiva quantidade de usinas termelétricas no Brasil e esconde a real predominância da matriz hidrelétrica, composta por três barras diferentes (CGH, PCH e UHE)."
      ],
      "metadata": {
        "id": "B9P_elaCxtgW"
      }
    },
    {
      "cell_type": "markdown",
      "source": [
        "### Capacidade instalada por tipo de usina"
      ],
      "metadata": {
        "id": "1NBBidX7w4xi"
      }
    },
    {
      "cell_type": "code",
      "source": [
        "Total_TipoUsina = tabela[[\"SigTipoGeracao\", \"MdaPotenciaInstaladaKW\"]].groupby([\"SigTipoGeracao\"]).sum()\n",
        "\n",
        "ax = Total_TipoUsina.plot.bar(color='red')\n",
        "ax.figure.set_size_inches(20,5)\n",
        "plt.xlabel(\"Tipos de Usinas\",size=15)\n",
        "plt.ylabel(\"Capacidade Instalada\",size=14)\n",
        "plt.title(\"Tipos de Usinas / Capacidade Instalada\",size=15)"
      ],
      "metadata": {
        "colab": {
          "base_uri": "https://localhost:8080/",
          "height": 386
        },
        "id": "__EVMH9iwXKk",
        "outputId": "bc080dcc-387c-46e5-8a12-3eb21cf1a471"
      },
      "execution_count": 25,
      "outputs": [
        {
          "output_type": "execute_result",
          "data": {
            "text/plain": [
              "Text(0.5, 1.0, 'Tipos de Usinas / Capacidade Instalada')"
            ]
          },
          "metadata": {},
          "execution_count": 25
        },
        {
          "output_type": "display_data",
          "data": {
            "text/plain": [
              "<Figure size 1440x360 with 1 Axes>"
            ],
            "image/png": "[encoded data removed]"
          },
          "metadata": {
            "needs_background": "light"
          }
        }
      ]
    },
    {
      "cell_type": "markdown",
      "source": [
        "Esse gráfico é mais fiel à realidade no sentido de produção de energia, pois fica evidente a predominância da matriz hidrelétrica no país, representada sobretudo pelas grandes hidrelétricas (UHE)."
      ],
      "metadata": {
        "id": "aCHTrrREy96r"
      }
    },
    {
      "cell_type": "markdown",
      "source": [
        "### Evolução histórica da quantidade de usinas no Brasil"
      ],
      "metadata": {
        "id": "Xd_8Q4gmwLCT"
      }
    },
    {
      "cell_type": "code",
      "source": [
        "Total_TipoUsinaAno = tabela[[\"QtdUsinasPeriodo\", \"AnoReferencia\"]].groupby([\"AnoReferencia\"]).sum()\n",
        "\n",
        "ax = Total_TipoUsinaAno.plot.bar(color=\"green\")\n",
        "ax.figure.set_size_inches(20,5)\n",
        "plt.xlabel(\"Evolução Histórica\",size=15)\n",
        "plt.ylabel(\"Quantidade de Usinas\",size=14)\n",
        "plt.title(\"Quantidade de Usinas / Evolução Histórica\",size=15)"
      ],
      "metadata": {
        "colab": {
          "base_uri": "https://localhost:8080/",
          "height": 391
        },
        "id": "4z6-bY9SZlW7",
        "outputId": "38156d0d-1041-4f5f-85f6-512fcc533858"
      },
      "execution_count": 20,
      "outputs": [
        {
          "output_type": "execute_result",
          "data": {
            "text/plain": [
              "Text(0.5, 1.0, 'Quantidade de Usinas / Evolução Histórica')"
            ]
          },
          "metadata": {},
          "execution_count": 20
        },
        {
          "output_type": "display_data",
          "data": {
            "text/plain": [
              "<Figure size 1440x360 with 1 Axes>"
            ],
            "image/png": "[encoded data removed]"
          },
          "metadata": {
            "needs_background": "light"
          }
        }
      ]
    },
    {
      "cell_type": "markdown",
      "source": [
        "Esse gráfico demonstra a evolução gradativa das usinas de geração de energia no Brasil, ficando evidente seu crescimento, sobretudo nos últimos 10 anos. "
      ],
      "metadata": {
        "id": "FPRmfrAM0FiI"
      }
    },
    {
      "cell_type": "code",
      "source": [
        "Total_TipoUsinaAno = tabela[[\"MdaPotenciaInstaladaKW\", \"AnoReferencia\"]].groupby([\"AnoReferencia\"]).sum()\n",
        "\n",
        "ax = Total_TipoUsinaAno.plot.bar(color=\"yellow\")\n",
        "ax.figure.set_size_inches(20,5)\n",
        "plt.xlabel(\"Evolução Histórica\",size=15)\n",
        "plt.ylabel(\"Capacidade Instalada\",size=14)\n",
        "plt.title(\"Capacidade Instalada / Evolução Histórica\",size=15)"
      ],
      "metadata": {
        "colab": {
          "base_uri": "https://localhost:8080/",
          "height": 391
        },
        "id": "7X7TLISI0n5t",
        "outputId": "745ea992-2e49-4db8-afe8-71d6221d9390"
      },
      "execution_count": 26,
      "outputs": [
        {
          "output_type": "execute_result",
          "data": {
            "text/plain": [
              "Text(0.5, 1.0, 'Capacidade Instalada / Evolução Histórica')"
            ]
          },
          "metadata": {},
          "execution_count": 26
        },
        {
          "output_type": "display_data",
          "data": {
            "text/plain": [
              "<Figure size 1440x360 with 1 Axes>"
            ],
            "image/png": "[encoded data removed]"
          },
          "metadata": {
            "needs_background": "light"
          }
        }
      ]
    },
    {
      "cell_type": "markdown",
      "source": [
        "Esse gráfico demonstra que, muito embora a quantidade de usinas tenham aumentado expressivamente nos últimos 10 anos, a capacidade instalada aumentou pouco, tendo inclusive diminuído no presente ano."
      ],
      "metadata": {
        "id": "g3XxzHt02Nmc"
      }
    },
    {
      "cell_type": "markdown",
      "source": [
        "## CONCLUSÕES"
      ],
      "metadata": {
        "id": "uaqPU_nDw_Ss"
      }
    },
    {
      "cell_type": "markdown",
      "source": [
        "Os dados coletados demonstraram a evolução quantitativa da geração de energia no Brasil tanto no que tange ao número de usinas quanto em relação à capacidade instalada (potência). Apesar da maior quantidade de usinas termelétricas, os dados confirmaram a maior expressividade da matriz hidrelétrica no país. \n",
        "\n",
        "Os dados também demonstraram uma grande evolução ao longo dos anos relativamente à quantidade de usinas construídas, mas evidenciaram que o mesmo aumento não ocorreu em relação à capacidade instalada de energia. Nesse ponto, a potência instalada mostrou um aumento expressivo entre 2011 e 2012, mantendo pequenos aumentos anuais, com exceção de um decréscimo no último ano. \n",
        "\n",
        "Talvez isso decorra do aumento de pequenas centrais hidrelétricas e de usinas fotovoltaicas em pequenas propriedades. Porém, não foram analisados dados para confirmar essa hipótese."
      ],
      "metadata": {
        "id": "rTEkLW-l2shV"
      }
    }
  ]
}